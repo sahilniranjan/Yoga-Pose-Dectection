{
 "cells": [
  {
   "cell_type": "code",
   "execution_count": 17,
   "metadata": {},
   "outputs": [],
   "source": [
    "\n",
    "    from sklearn import datasets\n",
    "    from sklearn.tree import DecisionTreeClassifier\n",
    "    from sklearn.model_selection import train_test_split\n",
    "    from sklearn.metrics import classification_report, confusion_matrix"
   ]
  },
  {
   "cell_type": "code",
   "execution_count": 19,
   "metadata": {},
   "outputs": [],
   "source": [
    "    wine = datasets.load_wine()\n",
    "    X = wine.data\n",
    "    y = wine.target"
   ]
  },
  {
   "cell_type": "code",
   "execution_count": 20,
   "metadata": {},
   "outputs": [],
   "source": [
    "  class_names = wine.target_names\n",
    "\n",
    "  X_train, X_test, y_train, y_test = train_test_split(X, y, test_size=0.30)"
   ]
  },
  {
   "cell_type": "code",
   "execution_count": 21,
   "metadata": {},
   "outputs": [],
   "source": [
    "   classifier_tree = DecisionTreeClassifier()\n",
    "\n",
    "   y_predict = classifier_tree.fit(X_train, y_train).predict(X_test)"
   ]
  },
  {
   "cell_type": "code",
   "execution_count": 22,
   "metadata": {},
   "outputs": [
    {
     "name": "stdout",
     "output_type": "stream",
     "text": [
      "              precision    recall  f1-score   support\n",
      "\n",
      "     class_0       0.88      1.00      0.94        15\n",
      "     class_1       1.00      0.78      0.88        27\n",
      "     class_2       0.75      1.00      0.86        12\n",
      "\n",
      "    accuracy                           0.89        54\n",
      "   macro avg       0.88      0.93      0.89        54\n",
      "weighted avg       0.91      0.89      0.89        54\n",
      "\n",
      "[[15  0  0]\n",
      " [ 2 21  4]\n",
      " [ 0  0 12]]\n"
     ]
    }
   ],
   "source": [
    "    print(classification_report(y_test, y_predict, target_names=class_names))\n",
    "\n",
    "    print(confusion_matrix(y_test, y_predict))"
   ]
  }
 ],
 "metadata": {
  "interpreter": {
   "hash": "aee8b7b246df8f9039afb4144a1f6fd8d2ca17a180786b69acc140d282b71a49"
  },
  "kernelspec": {
   "display_name": "Python 3.9.7 64-bit",
   "language": "python",
   "name": "python3"
  },
  "language_info": {
   "codemirror_mode": {
    "name": "ipython",
    "version": 3
   },
   "file_extension": ".py",
   "mimetype": "text/x-python",
   "name": "python",
   "nbconvert_exporter": "python",
   "pygments_lexer": "ipython3",
   "version": "3.9.7"
  },
  "orig_nbformat": 4
 },
 "nbformat": 4,
 "nbformat_minor": 2
}
